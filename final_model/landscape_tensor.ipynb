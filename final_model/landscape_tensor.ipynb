{
 "cells": [
  {
   "cell_type": "code",
   "execution_count": 3,
   "metadata": {
    "_cell_guid": "b1076dfc-b9ad-4769-8c92-a6c4dae69d19",
    "_uuid": "8f2839f25d086af736a60e9eeb907d3b93b6e0e5",
    "tags": []
   },
   "outputs": [],
   "source": [
    "import os\n",
    "import torch\n",
    "import torchvision\n",
    "import tarfile\n",
    "import torch.nn as nn\n",
    "import numpy as np\n",
    "import torch.nn.functional as F\n",
    "from torchvision.datasets.utils import download_url\n",
    "from torchvision.datasets import ImageFolder\n",
    "from torch.utils.data import DataLoader\n",
    "import torchvision.transforms as tt\n",
    "from torch.utils.data import random_split\n",
    "from torchvision.utils import make_grid\n",
    "from tqdm import tqdm\n",
    "import matplotlib.pyplot as plt\n",
    "%matplotlib inline"
   ]
  },
  {
   "attachments": {},
   "cell_type": "markdown",
   "metadata": {},
   "source": [
    "## Loading the Data\n",
    "We sourced this data from [Kaggle](https://www.kaggle.com/datasets/puneet6060/intel-image-classification) on a competition to classify landscapes. This data contains 6 different classes of types of landscapes and approximately 14k different images (approximately 2.5k in each class). "
   ]
  },
  {
   "cell_type": "code",
   "execution_count": 4,
   "metadata": {
    "tags": []
   },
   "outputs": [
    {
     "name": "stderr",
     "output_type": "stream",
     "text": [
      "\n",
      "KeyboardInterrupt\n",
      "\n"
     ]
    }
   ],
   "source": [
    "import zipfile\n",
    "with zipfile.ZipFile(\"archive.zip\",\"r\") as zip_ref:\n",
    "    zip_ref.extractall(\"archive\")"
   ]
  },
  {
   "cell_type": "code",
   "execution_count": 5,
   "metadata": {
    "_cell_guid": "79c7e3d0-c299-4dcb-8224-4455121ee9b0",
    "_uuid": "d629ff2d2480ee46fbb7e2d37f6b5fab8052498a",
    "tags": []
   },
   "outputs": [
    {
     "name": "stdout",
     "output_type": "stream",
     "text": [
      "['seg_test', 'seg_train', 'seg_pred']\n"
     ]
    }
   ],
   "source": [
    "# Look into the data directory\n",
    "data_dir = 'archive/'#'../input/intel-image-classification/'\n",
    "print(os.listdir(data_dir))"
   ]
  },
  {
   "cell_type": "code",
   "execution_count": 37,
   "metadata": {
    "tags": []
   },
   "outputs": [],
   "source": [
    "# Get the classes\n",
    "classes = ['buildings', 'forest', 'glacier', 'mountain', 'sea', 'street']"
   ]
  },
  {
   "cell_type": "code",
   "execution_count": 38,
   "metadata": {
    "tags": []
   },
   "outputs": [
    {
     "name": "stdout",
     "output_type": "stream",
     "text": [
      "No. of training examples for buildings: 2191\n",
      "No. of training examples for forests: 2271\n",
      "No. of training examples for glaciers: 2404\n",
      "No. of training examples for mountains: 2512\n",
      "No. of training examples for seas: 2274\n",
      "No. of training examples for streets: 2382\n"
     ]
    }
   ],
   "source": [
    "buildings_files = os.listdir(data_dir + \"/seg_train/seg_train/buildings\")\n",
    "print('No. of training examples for buildings:', len(buildings_files))\n",
    "\n",
    "forest_files = os.listdir(data_dir + \"/seg_train/seg_train/forest\")\n",
    "print('No. of training examples for forests:', len(forest_files))\n",
    "\n",
    "glacier_files = os.listdir(data_dir + \"/seg_train/seg_train/glacier\")\n",
    "print('No. of training examples for glaciers:', len(glacier_files))\n",
    "\n",
    "mountain_files = os.listdir(data_dir + \"/seg_train/seg_train/mountain\")\n",
    "print('No. of training examples for mountains:', len(mountain_files))\n",
    "\n",
    "sea_files = os.listdir(data_dir + \"/seg_train/seg_train/sea\")\n",
    "print('No. of training examples for seas:', len(sea_files))\n",
    "\n",
    "street_files = os.listdir(data_dir + \"/seg_train/seg_train/street\")\n",
    "print('No. of training examples for streets:', len(street_files))"
   ]
  },
  {
   "cell_type": "code",
   "execution_count": 59,
   "metadata": {
    "tags": []
   },
   "outputs": [
    {
     "data": {
      "image/png": "[encoded data removed]",
      "text/plain": [
       "<Figure size 640x480 with 1 Axes>"
      ]
     },
     "metadata": {},
     "output_type": "display_data"
    }
   ],
   "source": [
    "fig = plt.figure()\n",
    "ax = fig.add_axes([0,0,1,1])\n",
    "landscapes = [len(buildings_files),len(forest_files),len(glacier_files),len(mountain_files),len(sea_files),len(street_files)]\n",
    "ax.bar(classes,landscapes)\n",
    "plt.title(\"Landscape Class Data Size\")\n",
    "plt.show()"
   ]
  },
  {
   "cell_type": "code",
   "execution_count": 77,
   "metadata": {
    "tags": []
   },
   "outputs": [
    {
     "name": "stderr",
     "output_type": "stream",
     "text": [
      " 78%|████████████████████████████▉        | 1714/2191 [00:01<00:00, 1572.09it/s]"
     ]
    },
    {
     "name": "stdout",
     "output_type": "stream",
     "text": [
      "(124, 150, 3)\n"
     ]
    },
    {
     "name": "stderr",
     "output_type": "stream",
     "text": [
      "100%|█████████████████████████████████████| 2191/2191 [00:01<00:00, 1548.88it/s]\n",
      " 12%|████▋                                 | 278/2271 [00:00<00:01, 1388.94it/s]"
     ]
    },
    {
     "name": "stdout",
     "output_type": "stream",
     "text": [
      "(115, 150, 3)\n"
     ]
    },
    {
     "name": "stderr",
     "output_type": "stream",
     "text": [
      " 25%|█████████▎                            | 557/2271 [00:00<00:01, 1378.52it/s]"
     ]
    },
    {
     "name": "stdout",
     "output_type": "stream",
     "text": [
      "(108, 150, 3)\n",
      "(136, 150, 3)\n",
      "(108, 150, 3)\n",
      "(135, 150, 3)\n"
     ]
    },
    {
     "name": "stderr",
     "output_type": "stream",
     "text": [
      " 74%|███████████████████████████▎         | 1674/2271 [00:01<00:00, 1377.01it/s]"
     ]
    },
    {
     "name": "stdout",
     "output_type": "stream",
     "text": [
      "(133, 150, 3)\n",
      "(113, 150, 3)\n"
     ]
    },
    {
     "name": "stderr",
     "output_type": "stream",
     "text": [
      " 86%|███████████████████████████████▊     | 1952/2271 [00:01<00:00, 1379.90it/s]"
     ]
    },
    {
     "name": "stdout",
     "output_type": "stream",
     "text": [
      "(113, 150, 3)\n"
     ]
    },
    {
     "name": "stderr",
     "output_type": "stream",
     "text": [
      "100%|█████████████████████████████████████| 2271/2271 [00:01<00:00, 1375.64it/s]\n",
      " 14%|█████▏                                | 330/2404 [00:00<00:01, 1651.92it/s]"
     ]
    },
    {
     "name": "stdout",
     "output_type": "stream",
     "text": [
      "(111, 150, 3)\n",
      "(134, 150, 3)\n"
     ]
    },
    {
     "name": "stderr",
     "output_type": "stream",
     "text": [
      " 28%|██████████▍                           | 662/2404 [00:00<00:01, 1649.62it/s]"
     ]
    },
    {
     "name": "stdout",
     "output_type": "stream",
     "text": [
      "(142, 150, 3)\n",
      "(149, 150, 3)\n"
     ]
    },
    {
     "name": "stderr",
     "output_type": "stream",
     "text": [
      " 41%|███████████████▋                      | 992/2404 [00:00<00:00, 1642.69it/s]"
     ]
    },
    {
     "name": "stdout",
     "output_type": "stream",
     "text": [
      "(76, 150, 3)\n",
      "(111, 150, 3)\n",
      "(123, 150, 3)\n"
     ]
    },
    {
     "name": "stderr",
     "output_type": "stream",
     "text": [
      " 55%|████████████████████▎                | 1323/2404 [00:00<00:00, 1600.06it/s]"
     ]
    },
    {
     "name": "stdout",
     "output_type": "stream",
     "text": [
      "(105, 150, 3)\n",
      "(102, 150, 3)\n"
     ]
    },
    {
     "name": "stderr",
     "output_type": "stream",
     "text": [
      " 75%|███████████████████████████▊         | 1811/2404 [00:01<00:00, 1600.60it/s]"
     ]
    },
    {
     "name": "stdout",
     "output_type": "stream",
     "text": [
      "(143, 150, 3)\n",
      "(146, 150, 3)\n",
      "(111, 150, 3)\n",
      "(120, 150, 3)\n"
     ]
    },
    {
     "name": "stderr",
     "output_type": "stream",
     "text": [
      " 89%|████████████████████████████████▉    | 2139/2404 [00:01<00:00, 1616.23it/s]"
     ]
    },
    {
     "name": "stdout",
     "output_type": "stream",
     "text": [
      "(110, 150, 3)\n",
      "(97, 150, 3)\n"
     ]
    },
    {
     "name": "stderr",
     "output_type": "stream",
     "text": [
      "100%|█████████████████████████████████████| 2404/2404 [00:01<00:00, 1611.80it/s]\n"
     ]
    },
    {
     "name": "stdout",
     "output_type": "stream",
     "text": [
      "(135, 150, 3)\n",
      "(119, 150, 3)\n"
     ]
    },
    {
     "name": "stderr",
     "output_type": "stream",
     "text": [
      " 20%|███████▌                              | 500/2512 [00:00<00:01, 1653.06it/s]"
     ]
    },
    {
     "name": "stdout",
     "output_type": "stream",
     "text": [
      "(147, 150, 3)\n",
      "(103, 150, 3)\n",
      "(131, 150, 3)\n",
      "(135, 150, 3)\n"
     ]
    },
    {
     "name": "stderr",
     "output_type": "stream",
     "text": [
      " 33%|████████████▋                         | 836/2512 [00:00<00:01, 1667.12it/s]"
     ]
    },
    {
     "name": "stdout",
     "output_type": "stream",
     "text": [
      "(144, 150, 3)\n",
      "(100, 150, 3)\n"
     ]
    },
    {
     "name": "stderr",
     "output_type": "stream",
     "text": [
      " 60%|██████████████████████▏              | 1510/2512 [00:00<00:00, 1478.69it/s]"
     ]
    },
    {
     "name": "stdout",
     "output_type": "stream",
     "text": [
      "(123, 150, 3)\n",
      "(136, 150, 3)\n",
      "(113, 150, 3)\n",
      "(81, 150, 3)\n"
     ]
    },
    {
     "name": "stderr",
     "output_type": "stream",
     "text": [
      " 73%|██████████████████████████▊          | 1822/2512 [00:01<00:00, 1492.81it/s]"
     ]
    },
    {
     "name": "stdout",
     "output_type": "stream",
     "text": [
      "(143, 150, 3)\n",
      "(134, 150, 3)\n",
      "(146, 150, 3)\n",
      "(141, 150, 3)\n"
     ]
    },
    {
     "name": "stderr",
     "output_type": "stream",
     "text": [
      " 92%|██████████████████████████████████▏  | 2319/2512 [00:01<00:00, 1590.11it/s]"
     ]
    },
    {
     "name": "stdout",
     "output_type": "stream",
     "text": [
      "(142, 150, 3)\n",
      "(144, 150, 3)\n"
     ]
    },
    {
     "name": "stderr",
     "output_type": "stream",
     "text": [
      "100%|█████████████████████████████████████| 2512/2512 [00:01<00:00, 1593.58it/s]\n"
     ]
    },
    {
     "name": "stdout",
     "output_type": "stream",
     "text": [
      "(145, 150, 3)\n"
     ]
    },
    {
     "name": "stderr",
     "output_type": "stream",
     "text": [
      " 43%|████████████████▎                     | 978/2274 [00:00<00:00, 1659.12it/s]"
     ]
    },
    {
     "name": "stdout",
     "output_type": "stream",
     "text": [
      "(113, 150, 3)\n"
     ]
    },
    {
     "name": "stderr",
     "output_type": "stream",
     "text": [
      " 88%|████████████████████████████████▍    | 1992/2274 [00:01<00:00, 1669.07it/s]"
     ]
    },
    {
     "name": "stdout",
     "output_type": "stream",
     "text": [
      "(113, 150, 3)\n",
      "(113, 150, 3)\n",
      "(140, 150, 3)\n"
     ]
    },
    {
     "name": "stderr",
     "output_type": "stream",
     "text": [
      "100%|█████████████████████████████████████| 2274/2274 [00:01<00:00, 1633.66it/s]\n",
      "100%|█████████████████████████████████████| 2382/2382 [00:01<00:00, 1520.21it/s]"
     ]
    },
    {
     "name": "stdout",
     "output_type": "stream",
     "text": [
      "(113, 150, 3)\n"
     ]
    },
    {
     "name": "stderr",
     "output_type": "stream",
     "text": [
      "\n"
     ]
    }
   ],
   "source": [
    "# Define a list to hold the data for each image\n",
    "import re\n",
    "import pandas as pd\n",
    "from PIL import Image\n",
    "data = []\n",
    "\n",
    "# Sanity check\n",
    "matches_count = 0\n",
    "\n",
    "train_dir = 'archive/seg_train/seg_train/'\n",
    "\n",
    "for k in classes: \n",
    "    k_dir = train_dir + k + \"/\"\n",
    "    # Loop over each file in the directory\n",
    "    for filename in tqdm(os.listdir(k_dir)):\n",
    "        #print(filename)\n",
    "        filepath = os.path.join(train_dir, k, filename)\n",
    "        #image = Image.open(filepath)\n",
    "        try: \n",
    "            image = Image.open(filepath)\n",
    "            #print(\"Worked\")\n",
    "        except: \n",
    "            print(\"Missing image: \" + filepath)\n",
    "            continue\n",
    "        try: \n",
    "            assert(np.array(image).shape == (150, 150, 3))\n",
    "        except: \n",
    "            print(np.array(image).shape)\n",
    "            continue\n",
    "        data.append({'filename': filename, 'image': np.array(image), 'class': k})\n",
    "        image.close()\n",
    "# Create a dataframe from the data\n",
    "df = pd.DataFrame(data)"
   ]
  },
  {
   "cell_type": "code",
   "execution_count": 78,
   "metadata": {
    "tags": []
   },
   "outputs": [],
   "source": [
    "one_hot_encoded = pd.get_dummies(df['class'])\n",
    "\n",
    "# Concatenate the original DataFrame with the one-hot encoded columns\n",
    "df = pd.concat([df, one_hot_encoded], axis=1)"
   ]
  },
  {
   "cell_type": "code",
   "execution_count": 79,
   "metadata": {
    "tags": []
   },
   "outputs": [
    {
     "data": {
      "text/html": [
       "<div>\n",
       "<style scoped>\n",
       "    .dataframe tbody tr th:only-of-type {\n",
       "        vertical-align: middle;\n",
       "    }\n",
       "\n",
       "    .dataframe tbody tr th {\n",
       "        vertical-align: top;\n",
       "    }\n",
       "\n",
       "    .dataframe thead th {\n",
       "        text-align: right;\n",
       "    }\n",
       "</style>\n",
       "<table border=\"1\" class=\"dataframe\">\n",
       "  <thead>\n",
       "    <tr style=\"text-align: right;\">\n",
       "      <th></th>\n",
       "      <th>filename</th>\n",
       "      <th>image</th>\n",
       "      <th>class</th>\n",
       "      <th>buildings</th>\n",
       "      <th>forest</th>\n",
       "      <th>glacier</th>\n",
       "      <th>mountain</th>\n",
       "      <th>sea</th>\n",
       "      <th>street</th>\n",
       "    </tr>\n",
       "  </thead>\n",
       "  <tbody>\n",
       "    <tr>\n",
       "      <th>0</th>\n",
       "      <td>12536.jpg</td>\n",
       "      <td>[[[10, 6, 0], [86, 76, 51], [80, 61, 31], [85,...</td>\n",
       "      <td>buildings</td>\n",
       "      <td>1</td>\n",
       "      <td>0</td>\n",
       "      <td>0</td>\n",
       "      <td>0</td>\n",
       "      <td>0</td>\n",
       "      <td>0</td>\n",
       "    </tr>\n",
       "    <tr>\n",
       "      <th>1</th>\n",
       "      <td>16750.jpg</td>\n",
       "      <td>[[[80, 115, 171], [81, 116, 172], [81, 116, 17...</td>\n",
       "      <td>buildings</td>\n",
       "      <td>1</td>\n",
       "      <td>0</td>\n",
       "      <td>0</td>\n",
       "      <td>0</td>\n",
       "      <td>0</td>\n",
       "      <td>0</td>\n",
       "    </tr>\n",
       "    <tr>\n",
       "      <th>2</th>\n",
       "      <td>16988.jpg</td>\n",
       "      <td>[[[164, 184, 175], [158, 174, 164], [159, 174,...</td>\n",
       "      <td>buildings</td>\n",
       "      <td>1</td>\n",
       "      <td>0</td>\n",
       "      <td>0</td>\n",
       "      <td>0</td>\n",
       "      <td>0</td>\n",
       "      <td>0</td>\n",
       "    </tr>\n",
       "    <tr>\n",
       "      <th>3</th>\n",
       "      <td>4571.jpg</td>\n",
       "      <td>[[[186, 193, 203], [186, 193, 203], [185, 192,...</td>\n",
       "      <td>buildings</td>\n",
       "      <td>1</td>\n",
       "      <td>0</td>\n",
       "      <td>0</td>\n",
       "      <td>0</td>\n",
       "      <td>0</td>\n",
       "      <td>0</td>\n",
       "    </tr>\n",
       "    <tr>\n",
       "      <th>4</th>\n",
       "      <td>12244.jpg</td>\n",
       "      <td>[[[118, 126, 89], [99, 106, 75], [125, 127, 10...</td>\n",
       "      <td>buildings</td>\n",
       "      <td>1</td>\n",
       "      <td>0</td>\n",
       "      <td>0</td>\n",
       "      <td>0</td>\n",
       "      <td>0</td>\n",
       "      <td>0</td>\n",
       "    </tr>\n",
       "  </tbody>\n",
       "</table>\n",
       "</div>"
      ],
      "text/plain": [
       "    filename                                              image      class  \\\n",
       "0  12536.jpg  [[[10, 6, 0], [86, 76, 51], [80, 61, 31], [85,...  buildings   \n",
       "1  16750.jpg  [[[80, 115, 171], [81, 116, 172], [81, 116, 17...  buildings   \n",
       "2  16988.jpg  [[[164, 184, 175], [158, 174, 164], [159, 174,...  buildings   \n",
       "3   4571.jpg  [[[186, 193, 203], [186, 193, 203], [185, 192,...  buildings   \n",
       "4  12244.jpg  [[[118, 126, 89], [99, 106, 75], [125, 127, 10...  buildings   \n",
       "\n",
       "   buildings  forest  glacier  mountain  sea  street  \n",
       "0          1       0        0         0    0       0  \n",
       "1          1       0        0         0    0       0  \n",
       "2          1       0        0         0    0       0  \n",
       "3          1       0        0         0    0       0  \n",
       "4          1       0        0         0    0       0  "
      ]
     },
     "execution_count": 79,
     "metadata": {},
     "output_type": "execute_result"
    }
   ],
   "source": [
    "df.head()"
   ]
  },
  {
   "cell_type": "code",
   "execution_count": 82,
   "metadata": {
    "tags": []
   },
   "outputs": [],
   "source": [
    "# Load the data and split into training and testing sets\n",
    "from sklearn.model_selection import train_test_split\n",
    "\n",
    "x = df['image'].to_numpy()\n",
    "x = np.stack(x, axis=0)\n",
    "y = df[classes].to_numpy().astype('int32')\n",
    "x_train, x_test, y_train, y_test = train_test_split(x, y, test_size=0.2, random_state=109)\n",
    "\n",
    "# Convert the data type of the image arrays to float32 and normalize the data\n",
    "x_train = x_train.astype('float32') / 255.0\n",
    "x_test = x_test.astype('float32') / 255.0"
   ]
  },
  {
   "attachments": {},
   "cell_type": "markdown",
   "metadata": {},
   "source": [
    "## Creating and Training the Model\n",
    "\n",
    "We used transfer learning to train the model using TensorFlows VGG19. We added an additional sequential layer on top of the VGG19 to classify the different images using softmax activation. We used categorical crossentropy for our loss. \n",
    "A learning rate of 0.0005 seemed reasonable because it is slightly lower than the default. "
   ]
  },
  {
   "cell_type": "code",
   "execution_count": 87,
   "metadata": {
    "tags": []
   },
   "outputs": [],
   "source": [
    "import tensorflow as tf\n",
    "from tensorflow.keras.applications.vgg19 import VGG19\n",
    "from tensorflow.keras.models import Sequential\n",
    "from tensorflow.keras.layers import Dense, Flatten\n",
    "from tensorflow.keras.optimizers import Adam\n",
    "\n",
    "# Load the pre-trained VGG16 model without the top classification layer\n",
    "base_model = VGG19(weights='imagenet', include_top=False, input_shape=(150, 150, 3))\n",
    "\n",
    "# Freeze the pre-trained layers so they're not trainable\n",
    "for layer in base_model.layers:\n",
    "    layer.trainable = False\n",
    "    \n",
    "model2_classifier = tf.keras.Sequential([\n",
    "    tf.keras.layers.Flatten(),\n",
    "    tf.keras.layers.Dense(len(classes), activation='softmax')\n",
    "])\n",
    "\n",
    "model2 = tf.keras.Model(inputs=base_model.input, outputs=model2_classifier(base_model.output))\n",
    "\n",
    "# Loss function and optimizer\n",
    "criterion = tf.keras.losses.SparseCategoricalCrossentropy()\n",
    "optimizer = tf.keras.optimizers.Adam(learning_rate=0.0005)\n",
    "\n",
    "# Compile the model\n",
    "model2.compile(optimizer=optimizer, loss='categorical_crossentropy', metrics=['accuracy'])"
   ]
  },
  {
   "cell_type": "code",
   "execution_count": 88,
   "metadata": {
    "tags": []
   },
   "outputs": [
    {
     "name": "stdout",
     "output_type": "stream",
     "text": [
      "Epoch 1/10\n",
      "1399/1399 [==============================] - 706s 504ms/step - loss: 0.4833 - accuracy: 0.8251 - val_loss: 0.3765 - val_accuracy: 0.8656\n",
      "Epoch 2/10\n",
      "1399/1399 [==============================] - 741s 530ms/step - loss: 0.3283 - accuracy: 0.8817 - val_loss: 0.3872 - val_accuracy: 0.8667\n",
      "Epoch 3/10\n",
      "1399/1399 [==============================] - 733s 524ms/step - loss: 0.2596 - accuracy: 0.9057 - val_loss: 0.3731 - val_accuracy: 0.8717\n",
      "Epoch 4/10\n",
      "1399/1399 [==============================] - 627s 448ms/step - loss: 0.2236 - accuracy: 0.9208 - val_loss: 0.4181 - val_accuracy: 0.8620\n",
      "Epoch 5/10\n",
      "1399/1399 [==============================] - 632s 452ms/step - loss: 0.1912 - accuracy: 0.9320 - val_loss: 0.4022 - val_accuracy: 0.8674\n",
      "Epoch 6/10\n",
      "1399/1399 [==============================] - 593s 424ms/step - loss: 0.1661 - accuracy: 0.9432 - val_loss: 0.4327 - val_accuracy: 0.8610\n",
      "Epoch 7/10\n",
      "1399/1399 [==============================] - 597s 427ms/step - loss: 0.1505 - accuracy: 0.9481 - val_loss: 0.4699 - val_accuracy: 0.8503\n",
      "Epoch 8/10\n",
      "1399/1399 [==============================] - 709s 507ms/step - loss: 0.1322 - accuracy: 0.9531 - val_loss: 0.4231 - val_accuracy: 0.8706\n",
      "Epoch 9/10\n",
      "1399/1399 [==============================] - 607s 434ms/step - loss: 0.1169 - accuracy: 0.9606 - val_loss: 0.5248 - val_accuracy: 0.8467\n",
      "Epoch 10/10\n",
      "1399/1399 [==============================] - 605s 432ms/step - loss: 0.1085 - accuracy: 0.9628 - val_loss: 0.4949 - val_accuracy: 0.8585\n"
     ]
    }
   ],
   "source": [
    "land_history = model2.fit(x_train, y_train, epochs=10, batch_size=8, validation_data=(x_test, y_test))"
   ]
  },
  {
   "cell_type": "code",
   "execution_count": 89,
   "metadata": {
    "tags": []
   },
   "outputs": [],
   "source": [
    "model2.save('my_model.h5')"
   ]
  },
  {
   "attachments": {},
   "cell_type": "markdown",
   "metadata": {},
   "source": [
    "## Evaluating the Model\n",
    "After only 10 epochs (when the loss started to plateau), this model was able to achieve an accuracy of about 96% on the training data and approximately 86% on the testing data. If we are able to use transfer learning on these trained weights, we could use this model to extract features that could help us classify images as Democrat or Republican. "
   ]
  },
  {
   "cell_type": "code",
   "execution_count": 91,
   "metadata": {
    "tags": []
   },
   "outputs": [
    {
     "data": {
      "image/png": "[encoded data removed]",
      "text/plain": [
       "<Figure size 640x480 with 1 Axes>"
      ]
     },
     "metadata": {},
     "output_type": "display_data"
    },
    {
     "data": {
      "image/png": "[encoded data removed]",
      "text/plain": [
       "<Figure size 640x480 with 1 Axes>"
      ]
     },
     "metadata": {},
     "output_type": "display_data"
    }
   ],
   "source": [
    "plt.plot(land_history.history['loss'])\n",
    "plt.plot(land_history.history['val_loss'])\n",
    "plt.title('Model Loss for Classifying Landscapes')\n",
    "plt.ylabel('Loss')\n",
    "plt.xlabel('Epoch')\n",
    "plt.legend(['Train', 'Validation'], loc='upper left')\n",
    "plt.show()\n",
    "\n",
    "plt.plot(land_history.history['accuracy'])\n",
    "plt.plot(land_history.history['val_accuracy'])\n",
    "plt.title('Model Accuracy for Classifying Landscapes')\n",
    "plt.ylabel('Accuracy')\n",
    "plt.xlabel('Epoch')\n",
    "plt.legend(['Train', 'Validation'], loc='upper left')\n",
    "plt.show()"
   ]
  }
 ],
 "metadata": {
  "kernelspec": {
   "display_name": "Python 3 (ipykernel)",
   "language": "python",
   "name": "python3"
  },
  "language_info": {
   "codemirror_mode": {
    "name": "ipython",
    "version": 3
   },
   "file_extension": ".py",
   "mimetype": "text/x-python",
   "name": "python",
   "nbconvert_exporter": "python",
   "pygments_lexer": "ipython3",
   "version": "3.10.9"
  }
 },
 "nbformat": 4,
 "nbformat_minor": 4
}
